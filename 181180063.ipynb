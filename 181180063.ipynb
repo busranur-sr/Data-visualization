{
 "cells": [
  {
   "cell_type": "markdown",
   "metadata": {},
   "source": [
    "Büşra Nur Sarıakçe\n",
    "181180063"
   ]
  },
  {
   "cell_type": "code",
   "execution_count": 2,
   "metadata": {},
   "outputs": [
    {
     "name": "stdout",
     "output_type": "stream",
     "text": [
      "<class 'pandas.core.frame.DataFrame'>\n",
      "RangeIndex: 891 entries, 0 to 890\n",
      "Data columns (total 12 columns):\n",
      " #   Column       Non-Null Count  Dtype  \n",
      "---  ------       --------------  -----  \n",
      " 0   PassengerId  891 non-null    int64  \n",
      " 1   Survived     891 non-null    int64  \n",
      " 2   Pclass       891 non-null    int64  \n",
      " 3   Name         891 non-null    object \n",
      " 4   Sex          891 non-null    object \n",
      " 5   Age          714 non-null    float64\n",
      " 6   SibSp        891 non-null    int64  \n",
      " 7   Parch        891 non-null    int64  \n",
      " 8   Ticket       891 non-null    object \n",
      " 9   Fare         891 non-null    float64\n",
      " 10  Cabin        204 non-null    object \n",
      " 11  Embarked     889 non-null    object \n",
      "dtypes: float64(2), int64(5), object(5)\n",
      "memory usage: 83.7+ KB\n"
     ]
    }
   ],
   "source": [
    "import matplotlib.pyplot as plt\n",
    "from matplotlib import style\n",
    "%matplotlib inline\n",
    "import numpy as np\n",
    "import pandas as pd\n",
    "import seaborn as sns\n",
    "\n",
    "df_titanic = pd.read_csv('train.csv')\n",
    "df_titanic.info()"
   ]
  },
  {
   "cell_type": "markdown",
   "metadata": {},
   "source": [
    "Q1-> Please show all the information that belongs to the lastsix passengers. You should have 6 rows each referring to a passenger, and the values of 12 features (columns) for each passenger.\n",
    "\n",
    "I used tail function from pandas. Output contains 6 rows whose ids are from 886 to 890 and all of them have 12 features"
   ]
  },
  {
   "cell_type": "code",
   "execution_count": 3,
   "metadata": {},
   "outputs": [
    {
     "data": {
      "text/html": [
       "<div>\n",
       "<style scoped>\n",
       "    .dataframe tbody tr th:only-of-type {\n",
       "        vertical-align: middle;\n",
       "    }\n",
       "\n",
       "    .dataframe tbody tr th {\n",
       "        vertical-align: top;\n",
       "    }\n",
       "\n",
       "    .dataframe thead th {\n",
       "        text-align: right;\n",
       "    }\n",
       "</style>\n",
       "<table border=\"1\" class=\"dataframe\">\n",
       "  <thead>\n",
       "    <tr style=\"text-align: right;\">\n",
       "      <th></th>\n",
       "      <th>PassengerId</th>\n",
       "      <th>Survived</th>\n",
       "      <th>Pclass</th>\n",
       "      <th>Name</th>\n",
       "      <th>Sex</th>\n",
       "      <th>Age</th>\n",
       "      <th>SibSp</th>\n",
       "      <th>Parch</th>\n",
       "      <th>Ticket</th>\n",
       "      <th>Fare</th>\n",
       "      <th>Cabin</th>\n",
       "      <th>Embarked</th>\n",
       "    </tr>\n",
       "  </thead>\n",
       "  <tbody>\n",
       "    <tr>\n",
       "      <th>885</th>\n",
       "      <td>886</td>\n",
       "      <td>0</td>\n",
       "      <td>3</td>\n",
       "      <td>Rice, Mrs. William (Margaret Norton)</td>\n",
       "      <td>female</td>\n",
       "      <td>39.0</td>\n",
       "      <td>0</td>\n",
       "      <td>5</td>\n",
       "      <td>382652</td>\n",
       "      <td>29.125</td>\n",
       "      <td>NaN</td>\n",
       "      <td>Q</td>\n",
       "    </tr>\n",
       "    <tr>\n",
       "      <th>886</th>\n",
       "      <td>887</td>\n",
       "      <td>0</td>\n",
       "      <td>2</td>\n",
       "      <td>Montvila, Rev. Juozas</td>\n",
       "      <td>male</td>\n",
       "      <td>27.0</td>\n",
       "      <td>0</td>\n",
       "      <td>0</td>\n",
       "      <td>211536</td>\n",
       "      <td>13.000</td>\n",
       "      <td>NaN</td>\n",
       "      <td>S</td>\n",
       "    </tr>\n",
       "    <tr>\n",
       "      <th>887</th>\n",
       "      <td>888</td>\n",
       "      <td>1</td>\n",
       "      <td>1</td>\n",
       "      <td>Graham, Miss. Margaret Edith</td>\n",
       "      <td>female</td>\n",
       "      <td>19.0</td>\n",
       "      <td>0</td>\n",
       "      <td>0</td>\n",
       "      <td>112053</td>\n",
       "      <td>30.000</td>\n",
       "      <td>B42</td>\n",
       "      <td>S</td>\n",
       "    </tr>\n",
       "    <tr>\n",
       "      <th>888</th>\n",
       "      <td>889</td>\n",
       "      <td>0</td>\n",
       "      <td>3</td>\n",
       "      <td>Johnston, Miss. Catherine Helen \"Carrie\"</td>\n",
       "      <td>female</td>\n",
       "      <td>NaN</td>\n",
       "      <td>1</td>\n",
       "      <td>2</td>\n",
       "      <td>W./C. 6607</td>\n",
       "      <td>23.450</td>\n",
       "      <td>NaN</td>\n",
       "      <td>S</td>\n",
       "    </tr>\n",
       "    <tr>\n",
       "      <th>889</th>\n",
       "      <td>890</td>\n",
       "      <td>1</td>\n",
       "      <td>1</td>\n",
       "      <td>Behr, Mr. Karl Howell</td>\n",
       "      <td>male</td>\n",
       "      <td>26.0</td>\n",
       "      <td>0</td>\n",
       "      <td>0</td>\n",
       "      <td>111369</td>\n",
       "      <td>30.000</td>\n",
       "      <td>C148</td>\n",
       "      <td>C</td>\n",
       "    </tr>\n",
       "    <tr>\n",
       "      <th>890</th>\n",
       "      <td>891</td>\n",
       "      <td>0</td>\n",
       "      <td>3</td>\n",
       "      <td>Dooley, Mr. Patrick</td>\n",
       "      <td>male</td>\n",
       "      <td>32.0</td>\n",
       "      <td>0</td>\n",
       "      <td>0</td>\n",
       "      <td>370376</td>\n",
       "      <td>7.750</td>\n",
       "      <td>NaN</td>\n",
       "      <td>Q</td>\n",
       "    </tr>\n",
       "  </tbody>\n",
       "</table>\n",
       "</div>"
      ],
      "text/plain": [
       "     PassengerId  Survived  Pclass                                      Name  \\\n",
       "885          886         0       3      Rice, Mrs. William (Margaret Norton)   \n",
       "886          887         0       2                     Montvila, Rev. Juozas   \n",
       "887          888         1       1              Graham, Miss. Margaret Edith   \n",
       "888          889         0       3  Johnston, Miss. Catherine Helen \"Carrie\"   \n",
       "889          890         1       1                     Behr, Mr. Karl Howell   \n",
       "890          891         0       3                       Dooley, Mr. Patrick   \n",
       "\n",
       "        Sex   Age  SibSp  Parch      Ticket    Fare Cabin Embarked  \n",
       "885  female  39.0      0      5      382652  29.125   NaN        Q  \n",
       "886    male  27.0      0      0      211536  13.000   NaN        S  \n",
       "887  female  19.0      0      0      112053  30.000   B42        S  \n",
       "888  female   NaN      1      2  W./C. 6607  23.450   NaN        S  \n",
       "889    male  26.0      0      0      111369  30.000  C148        C  \n",
       "890    male  32.0      0      0      370376   7.750   NaN        Q  "
      ]
     },
     "execution_count": 3,
     "metadata": {},
     "output_type": "execute_result"
    }
   ],
   "source": [
    "#Q1\n",
    "df_titanic.tail(6)"
   ]
  },
  {
   "cell_type": "markdown",
   "metadata": {},
   "source": [
    "Q2. Please list the attributes (column titles).\n",
    "\n",
    "Output shows a list of attributes whichs are PassengerId,Survived,Pclass,Name,Sex,Age,SibSp,Parch,Ticket,Fare,Cabin,Embarked."
   ]
  },
  {
   "cell_type": "code",
   "execution_count": 4,
   "metadata": {},
   "outputs": [
    {
     "name": "stdout",
     "output_type": "stream",
     "text": [
      "List of attributes : \n",
      "PassengerId\n",
      "Survived\n",
      "Pclass\n",
      "Name\n",
      "Sex\n",
      "Age\n",
      "SibSp\n",
      "Parch\n",
      "Ticket\n",
      "Fare\n",
      "Cabin\n",
      "Embarked\n"
     ]
    }
   ],
   "source": [
    "#Q2\n",
    "print(\"List of attributes : \")\n",
    "for i in df_titanic.columns:\n",
    "    print(i,end=\"\\n\")"
   ]
  },
  {
   "cell_type": "markdown",
   "metadata": {},
   "source": [
    "Q3. Please show the size and dimension of the dataset. Do not forget to write what the output of your script refers to.\n",
    "\n",
    "Size of dataset means number of rows * number of columns : 10692\n",
    "Dimesion of dataset the  number of axes / array dimensions: 2"
   ]
  },
  {
   "cell_type": "code",
   "execution_count": 5,
   "metadata": {},
   "outputs": [
    {
     "name": "stdout",
     "output_type": "stream",
     "text": [
      "Size of dataset: 10692\n",
      "Dimension of the dataset: 2\n"
     ]
    }
   ],
   "source": [
    "#Q3\n",
    "print(\"Size of dataset: \" + str(df_titanic.size)+ \"\\nDimension of the dataset: \" + str(df_titanic.ndim))"
   ]
  },
  {
   "cell_type": "markdown",
   "metadata": {},
   "source": [
    "Q4. Please check how many missing values there are in the dataset for each feature column.Missing values will have a null value (NaN). Do not forget to write which classes have missing values, and how many missing values are there in the comments.\n",
    "\n",
    "Number of missing values:\n",
    "Age: 177,\n",
    "Cabin: 687\n",
    "Embarked: 2\n",
    "Others do not have any missing value."
   ]
  },
  {
   "cell_type": "code",
   "execution_count": 6,
   "metadata": {},
   "outputs": [
    {
     "name": "stdout",
     "output_type": "stream",
     "text": [
      "\n",
      "Missing values for each column :\n",
      "\n",
      " PassengerId      0\n",
      "Survived         0\n",
      "Pclass           0\n",
      "Name             0\n",
      "Sex              0\n",
      "Age            177\n",
      "SibSp            0\n",
      "Parch            0\n",
      "Ticket           0\n",
      "Fare             0\n",
      "Cabin          687\n",
      "Embarked         2\n",
      "dtype: int64\n"
     ]
    }
   ],
   "source": [
    "#Q4\n",
    "print(\"\\nMissing values for each column :\\n\\n\",df_titanic.isnull().sum())"
   ]
  },
  {
   "cell_type": "markdown",
   "metadata": {},
   "source": [
    "Q5. Please create a pie chart which shows the percentage of the passengers that were traveling in the 1st, 2nd and 3rd classes. Explain in your comments which class has more passengers\n",
    "\n",
    "Number of passengers in class 3 > class 1 > class 2"
   ]
  },
  {
   "cell_type": "code",
   "execution_count": 7,
   "metadata": {},
   "outputs": [
    {
     "data": {
      "text/plain": [
       "<AxesSubplot:ylabel='Pclass'>"
      ]
     },
     "execution_count": 7,
     "metadata": {},
     "output_type": "execute_result"
    },
    {
     "data": {
      "image/png": "[encoded data removed]",
      "text/plain": [
       "<Figure size 432x288 with 1 Axes>"
      ]
     },
     "metadata": {},
     "output_type": "display_data"
    }
   ],
   "source": [
    "#Q5\n",
    "df_titanic.Pclass.value_counts().plot(kind='pie',autopct='%1.1f%%')\n"
   ]
  },
  {
   "cell_type": "markdown",
   "metadata": {},
   "source": [
    "Q6. Please create a bar chart that shows the number of passengers who survived and the number of passengers who did not survive (You should have two bars referring to survived and did not survive)\n",
    "\n",
    "According to bar chart number of passengers who survived is greater than 500 and number of passengers who did not survive is greater than 300."
   ]
  },
  {
   "cell_type": "code",
   "execution_count": 8,
   "metadata": {},
   "outputs": [
    {
     "data": {
      "text/plain": [
       "<AxesSubplot:>"
      ]
     },
     "execution_count": 8,
     "metadata": {},
     "output_type": "execute_result"
    },
    {
     "data": {
      "image/png": "[encoded data removed]",
      "text/plain": [
       "<Figure size 432x288 with 1 Axes>"
      ]
     },
     "metadata": {
      "needs_background": "light"
     },
     "output_type": "display_data"
    }
   ],
   "source": [
    "#Q6\n",
    "df_titanic.Survived.value_counts().plot(kind='bar')"
   ]
  },
  {
   "cell_type": "markdown",
   "metadata": {},
   "source": [
    "Q7. Please create a plot that shows the percentage of passengers for each ticket class who survived and who did not survive in pie chart format. (You should have three pie charts (for each ticket class) referring to passengers of ticket class 1 who survived and didn’t survive, passengers of ticket class 2 who survived and didn’t survive and so on)\n",
    "\n",
    "According to pie chart:\n",
    "For class 1 : Survived %73\n",
    "              Did not survive %37\n",
    "    class 2 : Survived %47.3\n",
    "              Did not survive %52.7\n",
    "    class 3:  Survived %24.2\n",
    "              Did not survive %75.8"
   ]
  },
  {
   "cell_type": "code",
   "execution_count": 81,
   "metadata": {},
   "outputs": [
    {
     "data": {
      "text/plain": [
       "array([<AxesSubplot:ylabel='1'>, <AxesSubplot:ylabel='2'>,\n",
       "       <AxesSubplot:ylabel='3'>], dtype=object)"
      ]
     },
     "execution_count": 81,
     "metadata": {},
     "output_type": "execute_result"
    },
    {
     "data": {
      "image/png": "[encoded data removed]",
      "text/plain": [
       "<Figure size 432x288 with 3 Axes>"
      ]
     },
     "metadata": {},
     "output_type": "display_data"
    }
   ],
   "source": [
    "#Q7\n",
    "pd.crosstab(df_titanic.Survived,df_titanic.Pclass).plot(kind='pie',autopct='%1.1f%%',subplots=True)"
   ]
  },
  {
   "cell_type": "markdown",
   "metadata": {},
   "source": [
    "Q8.Please create a bar chart that shows the survival rates of each ticket class. (You should have three bars referring to each ticket class) Explain your observations in your comments, are there more class 1, 2 or 3 passengers in total? Which class had the highest survival rate? What might be the reason?\n",
    "\n",
    "There are more class 3 passengers in total. We show it in first question. The chart shows rates for each classes so number of passengers does not affect our observations\n",
    "\n",
    "Survival rates decrease respectively for Class 1,Class 2, Class 3. At the time of the accident, class 1 may have been given more life-saving equipment than other classes. The same may be true for class 2\n"
   ]
  },
  {
   "cell_type": "code",
   "execution_count": 10,
   "metadata": {},
   "outputs": [
    {
     "data": {
      "text/plain": [
       "<AxesSubplot:xlabel='Pclass'>"
      ]
     },
     "execution_count": 10,
     "metadata": {},
     "output_type": "execute_result"
    },
    {
     "data": {
      "image/png": "[encoded data removed]",
      "text/plain": [
       "<Figure size 432x288 with 1 Axes>"
      ]
     },
     "metadata": {
      "needs_background": "light"
     },
     "output_type": "display_data"
    }
   ],
   "source": [
    "#Q8\n",
    "df_titanic.groupby(\"Pclass\")[\"Survived\"].value_counts(normalize=True)[:,1].plot(kind='bar')\n"
   ]
  },
  {
   "cell_type": "markdown",
   "metadata": {},
   "source": [
    "Q9. Please create a cross table as shown below (x will be computed and included in your answer).The cross table makes it possible to get information about how many people of each gender have survived etc. Please indicate which gender has the most number of survivors? Which gender has the lowest number of survivors? Compute the rate for each gender: number of survivors for that gender/all passengers of the gender.\n",
    "\n",
    "Survived\t0\t1\tAll\n",
    "Sex\t\t\t\n",
    "female   \t81\t233\t314\n",
    "male\t   468\t109\t577\n",
    "All\t       549\t342\t891\n",
    "\n",
    "'Female' has the most number of survivors with 233.\n",
    "'Male' has the lowest number of survivors with 109.\n",
    "\n",
    "Rate for female : 0.74\n",
    "Rate for male: 0.19"
   ]
  },
  {
   "cell_type": "code",
   "execution_count": 11,
   "metadata": {},
   "outputs": [
    {
     "name": "stdout",
     "output_type": "stream",
     "text": [
      "Survived    0    1  All\n",
      "Sex                    \n",
      "female     81  233  314\n",
      "male      468  109  577\n",
      "All       549  342  891\n",
      "\n",
      "Rate for female: 0.7420382165605095\n",
      "Rate for male: 0.18890814558058924\n"
     ]
    }
   ],
   "source": [
    "#Q9\n",
    "ct = pd.crosstab(df_titanic.Sex, df_titanic.Survived,margins=True)\n",
    "print(ct)\n",
    "print(\"\\nRate for female: \" +str(ct.loc['female'][1]/ct.loc['female']['All']))\n",
    "print(\"Rate for male: \" +str(ct.loc['male'][1]/ct.loc['male']['All']))"
   ]
  },
  {
   "cell_type": "markdown",
   "metadata": {},
   "source": [
    "Q10. Please create a bar chart that shows the number of passengers who survived and who didn’t survive for each Port of Embarkation (C = Cherbourg, Q = Queenstown, S = Southampton). (You should have 6 bars in total)\n",
    "\n",
    "According to the bar chart:\n",
    "Southampton has the most number of passengers. More than 400 person is survived and more than 200 person didnt survive on that group.\n",
    "\n",
    "İn Cherbourg group more than 50 person is survived and more than the number of survived person on that group didnt survive.\n",
    "\n",
    "Queenstown has the lowest number of passengers. More than 50 person is survived and less than the number of survived person on that group didnt survive."
   ]
  },
  {
   "cell_type": "code",
   "execution_count": 12,
   "metadata": {},
   "outputs": [
    {
     "data": {
      "text/plain": [
       "<AxesSubplot:xlabel='Embarked'>"
      ]
     },
     "execution_count": 12,
     "metadata": {},
     "output_type": "execute_result"
    },
    {
     "data": {
      "image/png": "[encoded data removed]",
      "text/plain": [
       "<Figure size 432x288 with 1 Axes>"
      ]
     },
     "metadata": {
      "needs_background": "light"
     },
     "output_type": "display_data"
    }
   ],
   "source": [
    "#Q10\n",
    "pd.crosstab(df_titanic.Embarked, df_titanic.Survived).plot(kind='bar')"
   ]
  },
  {
   "cell_type": "markdown",
   "metadata": {},
   "source": [
    "Q11. Please create a cross table as shown below (x will be computed and included in your answer). (Similar to Q9 but age group information is added. For the age group, we will have [0-18] as child, [19-60] as adult, [60 and over] as old ). Explain which age group had a higher survival rate? What might be the reason?\n",
    "\n",
    "Child group has the highest survival rate. And 'Old' group hast lowest rate. Thay may be because of children have priority to be saved. And older people couldn't be able to survive in harsh conditions. \n"
   ]
  },
  {
   "cell_type": "code",
   "execution_count": 13,
   "metadata": {},
   "outputs": [
    {
     "name": "stdout",
     "output_type": "stream",
     "text": [
      "age_bins         Child  Adult  Old  All\n",
      "Sex    Survived                        \n",
      "female 0            22     42    0   64\n",
      "       1            46    148    3  197\n",
      "male   0            47    296   17  360\n",
      "       1            24     67    2   93\n",
      "All                139    553   22  714\n",
      "Survival rate for child:0.5035971223021583\n",
      "Survival rate for Adult:0.3887884267631103\n",
      "Survival rate for Old:0.22727272727272727\n"
     ]
    }
   ],
   "source": [
    "#Q11\n",
    "df_titanic['age_bins'] = pd.cut(x=df_titanic['Age'], bins=[0, 18, 60, np.inf],labels=['Child','Adult','Old'])\n",
    "ct2=pd.crosstab([df_titanic.Sex,df_titanic.Survived],df_titanic['age_bins'],margins=True)\n",
    "print(ct2)\n",
    "print(\"Survival rate for child:\"+str(df_titanic[df_titanic.age_bins=='Child'].Survived.value_counts(normalize=True)[1]))\n",
    "print(\"Survival rate for Adult:\"+str(df_titanic[df_titanic.age_bins=='Adult'].Survived.value_counts(normalize=True)[1]))\n",
    "print(\"Survival rate for Old:\"+str(df_titanic[df_titanic.age_bins=='Old'].Survived.value_counts(normalize=True)[1]))"
   ]
  },
  {
   "cell_type": "markdown",
   "metadata": {},
   "source": [
    "Q12. Please create a heatmap for correlation between whether a passenger survived and the strongest three attributes. (You can remove the weakly correlated attributes and show the strongest three attributes).\n",
    "\n",
    "First i made heatmap for survived and all columns then i take Stongest three attributes: Pclass, Fare and Parch. Second heatmap shows correlation between these and Survived. "
   ]
  },
  {
   "cell_type": "code",
   "execution_count": 77,
   "metadata": {},
   "outputs": [
    {
     "data": {
      "image/png": "[encoded data removed]",
      "text/plain": [
       "<Figure size 432x288 with 2 Axes>"
      ]
     },
     "metadata": {
      "needs_background": "light"
     },
     "output_type": "display_data"
    },
    {
     "data": {
      "image/png": "[encoded data removed]",
      "text/plain": [
       "<Figure size 432x288 with 2 Axes>"
      ]
     },
     "metadata": {
      "needs_background": "light"
     },
     "output_type": "display_data"
    }
   ],
   "source": [
    "#Q12\n",
    "df_heat = df_titanic.corr().loc[:,['Survived']]\n",
    "fig, ax = plt.subplots()\n",
    "im = ax.imshow(df_heat)\n",
    "ax.set_yticks([0,1,2,3,4,5,6])\n",
    "ax.set_xticks([0])\n",
    "ax.set_xticklabels(df_heat.columns)\n",
    "ax.set_yticklabels(df_heat.index)\n",
    "plt.title('Survived correlation with all columns ')\n",
    "plt.colorbar(im)\n",
    "plt.show()\n",
    "\n",
    "\n",
    "df_heat = df_titanic.corr().loc[['Pclass','Fare','Parch'],['Survived']]\n",
    "fig, ax = plt.subplots()\n",
    "im = ax.imshow(df_heat)\n",
    "ax.set_yticks([0,1,2])\n",
    "ax.set_xticks([0])\n",
    "ax.set_xticklabels(df_heat.columns)\n",
    "ax.set_yticklabels(df_heat.index)\n",
    "plt.title('Survived correlation with strongest three attributes ')\n",
    "plt.colorbar(im)\n",
    "plt.show()\n",
    "\n"
   ]
  },
  {
   "cell_type": "markdown",
   "metadata": {},
   "source": [
    "Q13.What is the most commonly used title (you can get the title information from the Name attribute)\n",
    "\n",
    "Most used title is 'Mr.'.\n",
    "I get that result with slip column with ',' and ' '. So that ı have a column with titles. "
   ]
  },
  {
   "cell_type": "code",
   "execution_count": 14,
   "metadata": {},
   "outputs": [
    {
     "data": {
      "text/plain": [
       "'Mr.'"
      ]
     },
     "execution_count": 14,
     "metadata": {},
     "output_type": "execute_result"
    }
   ],
   "source": [
    "#Q13\n",
    "df_title = pd.DataFrame(df_titanic.Name)\n",
    "df_title[['A','B']] = df_title.Name.str.split(\", \",1,expand=True)\n",
    "df_title[['A','B']] = df_title['B'].str.split(\" \",1,expand=True)\n",
    "df_title['A'].value_counts().idxmax()"
   ]
  },
  {
   "cell_type": "markdown",
   "metadata": {},
   "source": [
    "Q14. How many distinct titles are used? Please list these titles. (see Q14)\n",
    "\n",
    "Number of distinct titles: 17. And these are ; 'Mr.' 'Mrs.' 'Miss.' 'Master.' 'Don.' 'Rev.' 'Dr.' 'Mme.' 'Ms.' 'Major.'\n",
    " 'Lady.' 'Sir.' 'Mlle.' 'Col.' 'Capt.' 'the' 'Jonkheer'.\n",
    "\n",
    "I used the column consist of titles that ı made in previous question"
   ]
  },
  {
   "cell_type": "code",
   "execution_count": 15,
   "metadata": {},
   "outputs": [
    {
     "name": "stdout",
     "output_type": "stream",
     "text": [
      "['Mr.' 'Mrs.' 'Miss.' 'Master.' 'Don.' 'Rev.' 'Dr.' 'Mme.' 'Ms.' 'Major.'\n",
      " 'Lady.' 'Sir.' 'Mlle.' 'Col.' 'Capt.' 'the' 'Jonkheer.']\n",
      "Number of distinct titles: 17\n"
     ]
    }
   ],
   "source": [
    "#Q14\n",
    "print(df_title['A'].unique())\n",
    "print(\"Number of distinct titles: \"+str(df_title['A'].nunique()))\n"
   ]
  },
  {
   "cell_type": "markdown",
   "metadata": {},
   "source": [
    "Q15. What is the average age of the passengers?\n",
    "\n",
    "Average age: 26.7. I used 'mean' function and 'notno' function which eliminate rows has null value for age column.\n"
   ]
  },
  {
   "cell_type": "code",
   "execution_count": 16,
   "metadata": {},
   "outputs": [
    {
     "data": {
      "text/plain": [
       "29.69911764705882"
      ]
     },
     "execution_count": 16,
     "metadata": {},
     "output_type": "execute_result"
    }
   ],
   "source": [
    "#Q15\n",
    "df_age=df_titanic[df_titanic.Age.notna()].Age\n",
    "df_age.mean()"
   ]
  },
  {
   "cell_type": "markdown",
   "metadata": {},
   "source": [
    "Q16. Please create a strip chart (You can use the library seaborn for this) that plots age (y-axis), and survival (x-axis).\n",
    "\n",
    "I used seaborn library. Strip chart shows Survived people are mostly children and adult. And people that didnot survived are mostly adult. Also shows that adult people are more than other group."
   ]
  },
  {
   "cell_type": "code",
   "execution_count": 17,
   "metadata": {},
   "outputs": [
    {
     "data": {
      "text/plain": [
       "<AxesSubplot:xlabel='Survived', ylabel='Age'>"
      ]
     },
     "execution_count": 17,
     "metadata": {},
     "output_type": "execute_result"
    },
    {
     "data": {
      "image/png": "[encoded data removed]",
      "text/plain": [
       "<Figure size 432x288 with 1 Axes>"
      ]
     },
     "metadata": {
      "needs_background": "light"
     },
     "output_type": "display_data"
    }
   ],
   "source": [
    "#Q16\n",
    "sns.stripplot(x=df_titanic.Survived,y=df_titanic.Age)"
   ]
  },
  {
   "cell_type": "markdown",
   "metadata": {},
   "source": [
    "Q17. What is the age of the oldest person who survived?\n",
    "\n",
    "Age of oldest person who survived is 80. I used max function."
   ]
  },
  {
   "cell_type": "code",
   "execution_count": 18,
   "metadata": {},
   "outputs": [
    {
     "data": {
      "text/plain": [
       "80.0"
      ]
     },
     "execution_count": 18,
     "metadata": {},
     "output_type": "execute_result"
    }
   ],
   "source": [
    "#Q17\n",
    "df_titanic[df_titanic.Survived == 1].Age.max()"
   ]
  },
  {
   "cell_type": "markdown",
   "metadata": {},
   "source": [
    "Q18-19\n",
    "\n",
    "According to pie charts, children are more likely to survive than other age group and older people are more likely to not survive.We calculate percentages for each age group so we can get insight about survive posibility for someone that we know its age. \n",
    "\n",
    "Second pie chart for first version of question 18.\n",
    "At the first version of question; there are more adult people who survived. Beacuse of adult people numbers are more than others, pie chart doesnt say that an adult is more likely to survive than a child or an elderly person. Chart just show more adult survived.\n"
   ]
  },
  {
   "cell_type": "code",
   "execution_count": 98,
   "metadata": {},
   "outputs": [
    {
     "data": {
      "image/png": "[encoded data removed]",
      "text/plain": [
       "<Figure size 432x288 with 3 Axes>"
      ]
     },
     "metadata": {},
     "output_type": "display_data"
    },
    {
     "data": {
      "text/plain": [
       "<AxesSubplot:ylabel='age_bins'>"
      ]
     },
     "execution_count": 98,
     "metadata": {},
     "output_type": "execute_result"
    },
    {
     "data": {
      "image/png": "[encoded data removed]",
      "text/plain": [
       "<Figure size 432x288 with 1 Axes>"
      ]
     },
     "metadata": {},
     "output_type": "display_data"
    }
   ],
   "source": [
    "#Q18-Q19\n",
    "pd.crosstab(df_titanic.Survived,df_titanic.age_bins).plot(kind='pie',autopct='%1.1f%%',subplots=True)\n",
    "plt.show()\n",
    "#First version of question \n",
    "df_titanic[df_titanic.Survived == 1].age_bins.value_counts().plot(kind='pie')"
   ]
  },
  {
   "cell_type": "markdown",
   "metadata": {},
   "source": [
    "Q20. What is the number of the siblings of the passenger who has the highest number of siblings?\n",
    "\n",
    "Highest number of siblings: 8 . I used max method."
   ]
  },
  {
   "cell_type": "code",
   "execution_count": 21,
   "metadata": {},
   "outputs": [
    {
     "data": {
      "text/plain": [
       "8"
      ]
     },
     "execution_count": 21,
     "metadata": {},
     "output_type": "execute_result"
    }
   ],
   "source": [
    "#Q20\n",
    "df_titanic.SibSp.max()"
   ]
  }
 ],
 "metadata": {
  "interpreter": {
   "hash": "247ab06e135bb35fa78c5eff31b2a9a0050dcb5fb773c2631d2a29ac689eeccb"
  },
  "kernelspec": {
   "display_name": "Python 3.9.6 64-bit",
   "name": "python3"
  },
  "language_info": {
   "codemirror_mode": {
    "name": "ipython",
    "version": 3
   },
   "file_extension": ".py",
   "mimetype": "text/x-python",
   "name": "python",
   "nbconvert_exporter": "python",
   "pygments_lexer": "ipython3",
   "version": "3.9.6"
  },
  "orig_nbformat": 4
 },
 "nbformat": 4,
 "nbformat_minor": 2
}
